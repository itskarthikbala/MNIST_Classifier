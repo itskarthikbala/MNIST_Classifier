{
 "cells": [
  {
   "cell_type": "code",
   "execution_count": null,
   "id": "2b5246de",
   "metadata": {},
   "outputs": [],
   "source": [
    "#pytorch utility imports\n",
    "import torch\n",
    "import torchvision\n",
    "import torchvision.transforms as transforms\n",
    "from torch.utils.data import DataLoader, TensorDataset\n",
    "from torchvision import datasets"
   ]
  },
  {
   "cell_type": "code",
   "execution_count": null,
   "id": "ffd969ac",
   "metadata": {},
   "outputs": [],
   "source": [
    "#neural net imports\n",
    "import torch.nn as nn\n",
    "import torch.nn.functional as F\n",
    "import torch.optim as optim\n",
    "from torch.autograd import Variable"
   ]
  },
  {
   "cell_type": "code",
   "execution_count": null,
   "id": "9bfbde93",
   "metadata": {},
   "outputs": [],
   "source": [
    "#import libraries related to data Analysis and Visualisation\n",
    "import pandas as pd\n",
    "import numpy as np\n",
    "import matplotlib.pyplot as plt\n",
    "from sklearn.model_selection import train_test_split\n",
    "import os\n",
    "import math\n",
    "%matplotlib inline"
   ]
  },
  {
   "cell_type": "code",
   "execution_count": null,
   "id": "80afa182",
   "metadata": {},
   "outputs": [],
   "source": [
    "#Check for CUDA\n",
    "\n",
    "print(torch.cuda.is_available())\n",
    "print(torch.backends.cudnn.enabled)"
   ]
  },
  {
   "cell_type": "code",
   "execution_count": null,
   "id": "8dda22e9",
   "metadata": {},
   "outputs": [],
   "source": [
    "# load the train and test data into python dataframe\n",
    "input_folder_path = \"input/\"\n",
    "train_df = pd.read_csv(input_folder_path+\"train.csv\")\n",
    "test_df = pd.read_csv(input_folder_path+\"test.csv\")"
   ]
  },
  {
   "cell_type": "code",
   "execution_count": null,
   "id": "0c90e0d1",
   "metadata": {},
   "outputs": [],
   "source": [
    "# extract trainimages , train lables and test images\n",
    "train_labels = train_df['label'].values\n",
    "train_images = (train_df.iloc[:,1:].values).astype('float32')\n",
    "test_images = (test_df.iloc[:,:].values).astype('float32')"
   ]
  },
  {
   "cell_type": "code",
   "execution_count": null,
   "id": "c4a0b792",
   "metadata": {},
   "outputs": [],
   "source": [
    "#Training and Validation Split\n",
    "train_images, val_images, train_labels, val_labels = train_test_split(train_images, train_labels,\n",
    "                                                                     stratify=train_labels, random_state=123,\n",
    "                                                                     test_size=0.20)"
   ]
  },
  {
   "cell_type": "code",
   "execution_count": null,
   "id": "2ec5a454",
   "metadata": {},
   "outputs": [],
   "source": [
    "train_images = train_images.reshape(train_images.shape[0], 28, 28)\n",
    "val_images = val_images.reshape(val_images.shape[0], 28, 28)\n",
    "test_images = test_images.reshape(test_images.shape[0], 28, 28)"
   ]
  },
  {
   "cell_type": "code",
   "execution_count": null,
   "id": "f9b33902",
   "metadata": {},
   "outputs": [],
   "source": [
    "plt.imshow(train_images[10].squeeze(), cmap=plt.get_cmap('gray'))\n",
    "plt.title(train_labels[10])"
   ]
  },
  {
   "cell_type": "code",
   "execution_count": null,
   "id": "e7efb268",
   "metadata": {},
   "outputs": [],
   "source": [
    "# convert train_images array to tensor\n",
    "train_images_tensor = torch.tensor(train_images)/255.0\n",
    "train_labels_tensor = torch.tensor(train_labels)\n",
    "\n",
    "# load TensorDataset\n",
    "train_tensor = TensorDataset(train_images_tensor, train_labels_tensor)"
   ]
  },
  {
   "cell_type": "code",
   "execution_count": null,
   "id": "d6d679a8",
   "metadata": {},
   "outputs": [],
   "source": [
    "# conversion for validation set\n",
    "val_images_tensor = torch.tensor(val_images)/255.0\n",
    "val_labels_tensor = torch.tensor(val_labels)\n",
    "\n",
    "# load TensorDataset for validation data\n",
    "val_tensor = TensorDataset(val_images_tensor, val_labels_tensor)"
   ]
  },
  {
   "cell_type": "code",
   "execution_count": null,
   "id": "95dcafae",
   "metadata": {},
   "outputs": [],
   "source": [
    "#test set tensor dataset\n",
    "test_images_tensor = torch.tensor(test_images)/255.0"
   ]
  },
  {
   "cell_type": "code",
   "execution_count": null,
   "id": "4d4db559",
   "metadata": {},
   "outputs": [],
   "source": [
    "# DataLoader objects\n",
    "train_loader = DataLoader(train_tensor, batch_size=16, shuffle=True)\n",
    "val_loader = DataLoader(val_tensor, batch_size=16, shuffle=True)\n",
    "test_loader = DataLoader(test_images_tensor, batch_size=16,shuffle=False)"
   ]
  },
  {
   "cell_type": "code",
   "execution_count": null,
   "id": "2a027e55",
   "metadata": {},
   "outputs": [],
   "source": [
    "# Linear model - size of input features, size of output features as parameters\n",
    "linear_model = nn.Linear(28*28,10)"
   ]
  },
  {
   "cell_type": "code",
   "execution_count": null,
   "id": "186b53a6",
   "metadata": {},
   "outputs": [],
   "source": [
    "#computes the cross entropy loss between input and target\n",
    "criterion = torch.nn.CrossEntropyLoss() # computes softmax and then the cross entropy"
   ]
  },
  {
   "cell_type": "code",
   "execution_count": null,
   "id": "a0d4d7c7",
   "metadata": {},
   "outputs": [],
   "source": [
    "# Optimizer to implement stochastic gradient descent Algorithm\n",
    "optimizer = torch.optim.SGD(linear_model.parameters(), 0.001)"
   ]
  },
  {
   "cell_type": "code",
   "execution_count": null,
   "id": "c1d6c49a",
   "metadata": {},
   "outputs": [],
   "source": [
    "iter = 0\n",
    "accuracy=0\n",
    "for epoch in range(int(16)):\n",
    "    print(\"epoch: {}. Accuracy: {}.\".format(epoch, accuracy))\n",
    "    for i, (images, labels) in enumerate(train_loader):\n",
    "        images = Variable(images.view(-1, 28 * 28))\n",
    "        labels = Variable(labels)\n",
    "        \n",
    "        # below method call is made to set the gradients of all optimized torch Tensors to zero.\n",
    "        optimizer.zero_grad()\n",
    "        \n",
    "        #predict the output\n",
    "        outputs = linear_model(images)\n",
    "        \n",
    "        #derive the loss\n",
    "        loss = criterion(outputs, labels)\n",
    "        \n",
    "        # loss.backward method called to compute the gradients\n",
    "        loss.backward()\n",
    "        \n",
    "        # below method called to perform single optimization step - i.e. to update the parameters\n",
    "        optimizer.step()\n",
    "        \n",
    "        iter+=1\n",
    "        if iter%500==0:\n",
    "            # calculate Accuracy\n",
    "            correct = 0\n",
    "            total = 0\n",
    "            for images, labels in val_loader:\n",
    "                images = Variable(images.view(-1, 28*28))\n",
    "                outputs = linear_model(images)\n",
    "                _, predicted = torch.max(outputs.data, 1)\n",
    "                total+= labels.size(0)\n",
    "                # for gpu, bring the predicted and labels back to cpu fro python operations to work\n",
    "                correct+= (predicted == labels).sum()\n",
    "            accuracy = 100 * correct/total\n",
    "            print(\"Iteration: {}. Loss: {}. Accuracy: {}.\".format(iter, loss.item(), accuracy))"
   ]
  }
 ],
 "metadata": {
  "anaconda-cloud": {},
  "kernelspec": {
   "display_name": "Python 3 (ipykernel)",
   "language": "python",
   "name": "python3"
  },
  "language_info": {
   "codemirror_mode": {
    "name": "ipython",
    "version": 3
   },
   "file_extension": ".py",
   "mimetype": "text/x-python",
   "name": "python",
   "nbconvert_exporter": "python",
   "pygments_lexer": "ipython3",
   "version": "3.9.7"
  }
 },
 "nbformat": 4,
 "nbformat_minor": 5
}
